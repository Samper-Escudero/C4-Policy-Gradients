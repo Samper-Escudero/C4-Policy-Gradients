{
 "cells": [
  {
   "cell_type": "markdown",
   "metadata": {},
   "source": [
    "# Chapter 4 - Policy gradients methods\n",
    "### REINFORCE method\n",
    "\n",
    "This notebook implements a REINFORCE algorithm. The policy network accepts\n",
    "state vectors as inputs and produces a (discrete) probability distribution over the possible actions.\n",
    "\n",
    "The code and theory is based on Alexander Zai. “Deep Reinforcement Learning in Action MEAP V06”. Manning publications. "
   ]
  },
  {
   "cell_type": "code",
   "execution_count": 1,
   "metadata": {},
   "outputs": [],
   "source": [
    "import numpy as np\n",
    "import torch\n",
    "import gym\n",
    "from matplotlib import pyplot as plt\n",
    "import torch.nn as nn\n",
    "from torch.nn import functional as F\n",
    "from collections import OrderedDict\n",
    "from torch.autograd import Variable\n",
    "from IPython.display import clear_output\n",
    "import torch.distributed as dist\n"
   ]
  },
  {
   "cell_type": "code",
   "execution_count": 2,
   "metadata": {},
   "outputs": [
    {
     "name": "stderr",
     "output_type": "stream",
     "text": [
      "/Users/jluissamper/.virtualenvs/pytorch/lib/python3.6/site-packages/gym/logger.py:30: UserWarning: \u001b[33mWARN: Box bound precision lowered by casting to float32\u001b[0m\n",
      "  warnings.warn(colorize('%s: %s'%('WARN', msg % args), 'yellow'))\n"
     ]
    }
   ],
   "source": [
    "env = gym.make(\"CartPole-v0\")"
   ]
  },
  {
   "cell_type": "code",
   "execution_count": 3,
   "metadata": {},
   "outputs": [],
   "source": [
    "# test environment\n",
    "def testEnv(env, steps = 200):\n",
    "    env.reset()\n",
    "    for _ in range(steps):\n",
    "        env.render()\n",
    "        env.step(env.action_space.sample()) # take a random action\n",
    "    env.close()"
   ]
  },
  {
   "cell_type": "code",
   "execution_count": 4,
   "metadata": {},
   "outputs": [
    {
     "name": "stderr",
     "output_type": "stream",
     "text": [
      "/Users/jluissamper/.virtualenvs/pytorch/lib/python3.6/site-packages/gym/logger.py:30: UserWarning: \u001b[33mWARN: You are calling 'step()' even though this environment has already returned done = True. You should always call 'reset()' once you receive 'done = True' -- any further steps are undefined behavior.\u001b[0m\n",
      "  warnings.warn(colorize('%s: %s'%('WARN', msg % args), 'yellow'))\n"
     ]
    }
   ],
   "source": [
    "# Unconmment to check everything is properly installed\n",
    "# A window with a cartpole randomly moving should appear. \n",
    "# Some python3-related errors might occur after closing the environment (window with the cartpole)\n",
    "# Check whether kernel needs to be restarted \n",
    " testEnv(env, 100)"
   ]
  },
  {
   "cell_type": "code",
   "execution_count": 28,
   "metadata": {},
   "outputs": [],
   "source": [
    "class REINFORCE():\n",
    "    def __init__(self, n_in, n_out, n_hidden1, n_hidden2, env, gamma = 0.9):\n",
    "        self.n_in = n_in\n",
    "        self.n_out = n_out\n",
    "        self.env = env\n",
    "        self.gamma = gamma\n",
    "        \n",
    "       # self.one_hot_reward = np.ones(arms)\n",
    "\n",
    "        # Neural network model definition \n",
    "        self.model = nn.Sequential(OrderedDict([\n",
    "            ('fc1', nn.Linear(n_in, n_hidden1)),\n",
    "            ('ReLu1', nn.LeakyReLU(inplace = True)),\n",
    "            ('fc2', nn.Linear(n_hidden1, n_hidden2)),\n",
    "            ('ReLu2', nn.LeakyReLU(inplace = True)),\n",
    "            ('fc3', nn.Linear(n_hidden2, n_out)),\n",
    "            ('softmax', nn.Softmax(dim=0))\n",
    "        ])\n",
    "        )\n",
    "       # self.TNetwork = copy.deepcopy(self.QNetwork) # Target Network\n",
    "       # self.TNetwork.load_state_dict(self.QNetwork.state_dict())                \n",
    "    def updateEnv (self, env):\n",
    "        self.env = env\n",
    "        \n",
    "    def playEpisode(self, eps_max_dur, init_state, preds):\n",
    "        transitions_ = []\n",
    "        state_ = init_state\n",
    "        for st in range(eps_max_dur): \n",
    "            action_, pred_ = self.policy.step(self.model, state_, self.n_out)\n",
    "            new_state_, reward_, done = self.policy.execAction(self.env, action_)\n",
    "            transitions_.append((state_, action_, st+1))\n",
    "            preds[st] = pred_[action_]\n",
    "            if done:\n",
    "                break\n",
    "            state_ = new_state_\n",
    "\n",
    "        return transitions_\n",
    "        \n",
    "    def resetEnv(self):\n",
    "        state = self.env.reset()\n",
    "        return state\n",
    "    class policy():\n",
    "        \n",
    "        def step(model, state, n_outs):\n",
    "            pred = model(torch.from_numpy(state).float())\n",
    "            action = np.random.choice(np.array(range(n_outs)), p = pred.data.numpy())\n",
    "            return action, pred\n",
    "            \n",
    "        def execAction (env, action):\n",
    "            new_state, reward, done, info = env.step(action)\n",
    "            return new_state, reward, done\n",
    "        \n",
    "        def discount_rewards(rewards, disc_factor=0.99):\n",
    "            # create the discount array using the disc factor and multiply it by the rewards\n",
    "            disc_rewards = torch.pow(disc_factor,torch.arange(len(rewards)).float()) * rewards \n",
    "            # Normalize rewards so as to avoid drift/shift in training\n",
    "            # Add small num to den so as to avoid 0 div\n",
    "            norm_dreward = (disc_rewards - disc_rewards.mean()) / (disc_rewards.std() + 1e-09) \n",
    "            return norm_dreward\n",
    "        \n",
    "        # to train the network:\n",
    "        # 1. Calculate prob of the action taken\n",
    "        # 2. Apply discount factor\n",
    "        # 3. backpropagate and minimize the loss"
   ]
  },
  {
   "cell_type": "code",
   "execution_count": 29,
   "metadata": {},
   "outputs": [],
   "source": [
    "learning_rate = 0.0009\n",
    "l1 = 4\n",
    "l2 = 150\n",
    "l3 = 100\n",
    "l4 = 2"
   ]
  },
  {
   "cell_type": "code",
   "execution_count": 30,
   "metadata": {},
   "outputs": [],
   "source": [
    "RLmodel = REINFORCE(l1,l4,l2,l3, env)\n",
    "optimizer = torch.optim.Adam(RLmodel.model.parameters(), lr = learning_rate)"
   ]
  },
  {
   "cell_type": "code",
   "execution_count": 31,
   "metadata": {},
   "outputs": [
    {
     "data": {
      "text/plain": [
       "tensor([ 1.1695,  0.3796, -0.3949, -1.1542])"
      ]
     },
     "execution_count": 31,
     "metadata": {},
     "output_type": "execute_result"
    }
   ],
   "source": [
    "testR = torch.Tensor([4, 3, 2, 1])\n",
    "RLmodel.policy.discount_rewards(testR)"
   ]
  },
  {
   "cell_type": "code",
   "execution_count": 32,
   "metadata": {},
   "outputs": [],
   "source": [
    "def loss_fn(preds, r):\n",
    "    return -1 * torch.sum(r * torch.log(preds))"
   ]
  },
  {
   "cell_type": "code",
   "execution_count": 36,
   "metadata": {},
   "outputs": [
    {
     "name": "stdout",
     "output_type": "stream",
     "text": [
      "[(array([ 0.04175637, -0.00106017, -0.02931708, -0.03768616]), 1, 1), (array([ 0.04173517,  0.19446966, -0.0300708 , -0.33947285]), 0, 2), (array([ 0.04562456, -0.0002118 , -0.03686026, -0.05642217]), 0, 3), (array([ 0.04562033, -0.19478638, -0.0379887 ,  0.22440698]), 0, 4), (array([ 0.0417246 , -0.38934537, -0.03350056,  0.50486892]), 1, 5), (array([ 0.03393769, -0.19376771, -0.02340318,  0.20181972]), 0, 6), (array([ 0.03006234, -0.38854728, -0.01936679,  0.48702915]), 0, 7), (array([ 0.02229139, -0.58339068, -0.00962621,  0.77354598]), 1, 8), (array([ 0.01062358, -0.38813763,  0.00584471,  0.4778499 ]), 1, 9), (array([ 0.00286083, -0.19309869,  0.01540171,  0.18701482]), 1, 10), (array([-0.00100115,  0.00179956,  0.01914201, -0.10076995]), 0, 11), (array([-0.00096515, -0.19359142,  0.01712661,  0.19789023]), 0, 12), (array([-0.00483698, -0.3889541 ,  0.02108441,  0.49592625]), 1, 13), (array([-0.01261607, -0.19413572,  0.03100294,  0.20996199]), 0, 14), (array([-0.01649878, -0.38968693,  0.03520218,  0.51226125]), 0, 15), (array([-0.02429252, -0.58528657,  0.0454474 ,  0.81582625]), 1, 16), (array([-0.03599825, -0.39081538,  0.06176393,  0.5377776 ]), 1, 17), (array([-0.04381456, -0.19661368,  0.07251948,  0.26517756]), 1, 18), (array([-0.04774683, -0.00259768,  0.07782303, -0.00377947]), 0, 19), (array([-0.04779878, -0.19874448,  0.07774744,  0.31240709]), 1, 20), (array([-0.05177367, -0.00481126,  0.08399558,  0.04522074]), 1, 21), (array([-0.0518699 ,  0.18901207,  0.0849    , -0.21982358]), 0, 22), (array([-0.04808966, -0.00721438,  0.08050353,  0.09838657]), 0, 23), (array([-0.04823395, -0.20339231,  0.08247126,  0.4153429 ]), 1, 24), (array([-0.05230179, -0.00953015,  0.09077812,  0.1497571 ]), 0, 25), (array([-0.05249239, -0.20582683,  0.09377326,  0.46964187]), 1, 26), (array([-0.05660893, -0.01214596,  0.1031661 ,  0.20792592]), 1, 27), (array([-0.05685185,  0.18136109,  0.10732461, -0.05051432]), 1, 28), (array([-0.05322463,  0.3747935 ,  0.10631433, -0.3075006 ]), 0, 29), (array([-0.04572876,  0.17832997,  0.10016432,  0.0167284 ]), 0, 30), (array([-0.04216216, -0.01807516,  0.10049888,  0.33925855]), 1, 31), (array([-0.04252366,  0.17548387,  0.10728405,  0.07988193]), 0, 32), (array([-0.03901399, -0.0209994 ,  0.10888169,  0.40439339]), 1, 33), (array([-0.03943397,  0.17242355,  0.11696956,  0.14792507]), 1, 34), (array([-0.0359855 ,  0.36569314,  0.11992806, -0.10568766]), 0, 35), (array([-0.02867164,  0.16907492,  0.11781431,  0.22229566]), 1, 36), (array([-0.02529014,  0.36233313,  0.12226022, -0.03102479]), 1, 37), (array([-0.01804348,  0.55550899,  0.12163973, -0.28277063]), 0, 38), (array([-0.0069333 ,  0.358881  ,  0.11598431,  0.04566598]), 1, 39), (array([ 2.44321185e-04,  5.52165281e-01,  1.16897634e-01, -2.08289534e-01]), 0, 40), (array([0.01128763, 0.35558268, 0.11273184, 0.11886161]), 1, 41), (array([ 0.01839928,  0.54892408,  0.11510908, -0.13623663]), 1, 42), (array([ 0.02937776,  0.74222524,  0.11238434, -0.39050216]), 0, 43), (array([ 0.04422227,  0.54570261,  0.1045743 , -0.06460636]), 0, 44), (array([0.05513632, 0.34924887, 0.10328217, 0.25915327]), 1, 45), (array([0.0621213 , 0.54275637, 0.10846524, 0.00074979]), 1, 46), (array([ 0.07297642,  0.7361691 ,  0.10848023, -0.25583811]), 0, 47), (array([0.08769981, 0.539679  , 0.10336347, 0.06899519]), 1, 48), (array([ 0.09849339,  0.73317885,  0.10474338, -0.18937067]), 0, 49), (array([0.11315696, 0.53672648, 0.10095596, 0.13443116]), 1, 50), (array([ 0.12389149,  0.73026832,  0.10364458, -0.12477275]), 1, 51), (array([ 0.13849686,  0.9237645 ,  0.10114913, -0.38304251]), 0, 52), (array([ 0.15697215,  0.72736278,  0.09348828, -0.06025855]), 1, 53), (array([ 0.1715194 ,  0.92102861,  0.09228311, -0.32204319]), 0, 54), (array([ 0.18993998,  0.72472199,  0.08584224, -0.00174346]), 1, 55), (array([ 0.20443442,  0.91851464,  0.08580738, -0.26615544]), 1, 56), (array([ 0.22280471,  1.11231379,  0.08048427, -0.5305882 ]), 0, 57), (array([ 0.24505099,  0.91615741,  0.0698725 , -0.21366927]), 0, 58), (array([0.26337413, 0.72010968, 0.06559912, 0.10021058]), 1, 59), (array([ 0.27777633,  0.91423314,  0.06760333, -0.17107601]), 1, 60), (array([ 0.29606099,  1.10832564,  0.06418181, -0.44168948]), 0, 61), (array([ 0.3182275 ,  0.91235694,  0.05534802, -0.12948517]), 1, 62), (array([ 0.33647464,  1.10664414,  0.05275832, -0.40420569]), 0, 63), (array([ 0.35860752,  0.91081522,  0.0446742 , -0.09536726]), 1, 64), (array([ 0.37682383,  1.10526935,  0.04276686, -0.37362759]), 0, 65), (array([ 0.39892922,  0.9095668 ,  0.03529431, -0.06777256]), 1, 66), (array([ 0.41712055,  1.10416543,  0.03393885, -0.34911435]), 0, 67), (array([ 0.43920386,  0.90857763,  0.02695657, -0.04592549]), 1, 68), (array([ 0.45737541,  1.10330288,  0.02603806, -0.32998297]), 0, 69), (array([ 0.47944147,  0.90782013,  0.0194384 , -0.02920392]), 1, 70), (array([ 0.49759787,  1.10265801,  0.01885432, -0.315691  ]), 1, 71), (array([ 0.51965103,  1.29750639,  0.0125405 , -0.60236878]), 0, 72), (array([ 5.45601161e-01,  1.10221130e+00,  4.93123667e-04, -3.05762363e-01]), 0, 73), (array([ 0.56764539,  0.90708232, -0.00562212, -0.01292396]), 1, 74), (array([ 0.58578703,  1.10228445, -0.0058806 , -0.30737542]), 1, 75), (array([ 0.60783272,  1.2974897 , -0.01202811, -0.60190711]), 0, 76), (array([ 0.63378252,  1.10253804, -0.02406625, -0.31303697]), 0, 77), (array([ 0.65583328,  0.90776705, -0.03032699, -0.02803988]), 1, 78), (array([ 0.67398862,  1.10331049, -0.03088779, -0.33013494]), 0, 79), (array([ 0.69605483,  0.90864154, -0.03749049, -0.04735035]), 1, 80), (array([ 0.71422766,  1.10428046, -0.0384375 , -0.35162215]), 0, 81), (array([ 0.73631327,  0.9097256 , -0.04546994, -0.07130326]), 1, 82), (array([ 0.75450778,  1.10546895, -0.046896  , -0.37797835]), 0, 83), (array([ 0.77661716,  0.9110433 , -0.05445557, -0.10044288]), 1, 84), (array([ 0.79483803,  1.10690169, -0.05646443, -0.409797  ]), 0, 85), (array([ 0.81697606,  0.91262382, -0.06466037, -0.13543636]), 1, 86), (array([ 0.83522854,  1.10860949, -0.0673691 , -0.44779742]), 0, 87), (array([ 0.85740073,  0.91450198, -0.07632504, -0.17708818]), 0, 88), (array([ 0.87569076,  0.72055058, -0.07986681,  0.09057416]), 1, 89), (array([ 0.89010178,  0.91672107, -0.07805532, -0.22619948]), 0, 90), (array([ 0.9084362 ,  0.72279639, -0.08257931,  0.04087689]), 1, 91), (array([ 0.92289213,  0.91899946, -0.08176178, -0.27667554]), 0, 92), (array([ 0.94127211,  0.72513339, -0.08729529, -0.01085908]), 1, 93), (array([ 0.95577478,  0.92139177, -0.08751247, -0.3297579 ]), 0, 94), (array([ 0.97420262,  0.72761751, -0.09410763, -0.06590465]), 1, 95), (array([ 0.98875497,  0.9239539 , -0.09542572, -0.38673291]), 0, 96), (array([ 1.00723405,  0.73030693, -0.10316038, -0.12559658]), 1, 97), (array([ 1.02184018,  0.92674387, -0.10567231, -0.4489609 ]), 0, 98), (array([ 1.04037506,  0.73326292, -0.11465153, -0.19136823]), 0, 99), (array([ 1.05504032,  0.5399519 , -0.11847889,  0.06306084]), 0, 100), (array([ 1.06583936,  0.34671034, -0.11721768,  0.31613975]), 1, 101), (array([ 1.07277356,  0.54328988, -0.11089488, -0.01108925]), 1, 102), (array([ 1.08363936,  0.73981309, -0.11111667, -0.33659965]), 0, 103), (array([ 1.09843562,  0.54643336, -0.11784866, -0.08092007]), 1, 104), (array([ 1.10936429,  0.74303022, -0.11946706, -0.40833728]), 0, 105), (array([ 1.1242249 ,  0.5497868 , -0.12763381, -0.15557806]), 0, 106), (array([ 1.13522063,  0.35670139, -0.13074537,  0.09427163]), 1, 107), (array([ 1.14235466,  0.55343133, -0.12885993, -0.23663434]), 0, 108), (array([ 1.15342329,  0.36036329, -0.13359262,  0.01278658]), 1, 109), (array([ 1.16063055,  0.557123  , -0.13333689, -0.31888274]), 0, 110), (array([ 1.17177301,  0.3641271 , -0.13971454, -0.07104349]), 1, 111), (array([ 1.17905555,  0.56094681, -0.14113541, -0.40433884]), 0, 112), (array([ 1.19027449,  0.36807898, -0.14922219, -0.15926985]), 1, 113), (array([ 1.19763607,  0.56498724, -0.15240759, -0.49505856]), 0, 114), (array([ 1.20893581,  0.372306  , -0.16230876, -0.25402149]), 0, 115), (array([ 1.21638193,  0.17982873, -0.16738919, -0.01660976]), 0, 116), (array([ 1.21997851, -0.01254652, -0.16772138,  0.21893697]), 1, 117), (array([ 1.21972758,  0.18452629, -0.16334264, -0.12160339]), 0, 118), (array([ 1.2234181 , -0.0079245 , -0.16577471,  0.11542081]), 1, 119), (array([ 1.22325961,  0.1891368 , -0.1634663 , -0.22463366]), 0, 120), (array([ 1.22704235, -0.0033174 , -0.16795897,  0.01235393]), 0, 121), (array([ 1.226976  , -0.1956823 , -0.16771189,  0.24769274]), 1, 122), (array([ 1.22306236,  0.00138825, -0.16275804, -0.09284199]), 0, 123), (array([ 1.22309012, -0.19107212, -0.16461488,  0.14439338]), 0, 124), (array([ 1.21926868, -0.38350089, -0.16172701,  0.38095604]), 1, 125), (array([ 1.21159866, -0.18649633, -0.15410789,  0.04196462]), 0, 126), (array([ 1.20786873, -0.37911116, -0.15326859,  0.28233422]), 1, 127), (array([ 1.20028651, -0.18217312, -0.14762191, -0.05449464]), 0, 128), (array([ 1.19664305, -0.37490391, -0.1487118 ,  0.18821386]), 0, 129), (array([ 1.18914497, -0.56761998, -0.14494753,  0.4305371 ]), 0, 130), (array([ 1.17779257, -0.76042396, -0.13633678,  0.67424479]), 1, 131), (array([ 1.16258409, -0.56369707, -0.12285189,  0.34193379]), 1, 132), (array([ 1.15131015, -0.36706096, -0.11601321,  0.01317496]), 0, 133), (array([ 1.14396893, -0.56034453, -0.11574971,  0.26712001]), 1, 134), (array([ 1.13276204, -0.36377723, -0.11040731, -0.05971242]), 0, 135), (array([ 1.1254865 , -0.55715721, -0.11160156,  0.19619757]), 0, 136), (array([ 1.11434335, -0.75052058, -0.10767761,  0.45169546]), 0, 137), (array([ 1.09933294, -0.9439681 , -0.0986437 ,  0.70859009]), 1, 138), (array([ 1.08045358, -0.74762819, -0.0844719 ,  0.38655771]), 0, 139), (array([ 1.06550101, -0.94145579, -0.07674074,  0.65145722]), 0, 140), (array([ 1.0466719 , -1.1354298 , -0.0637116 ,  0.91902226]), 1, 141), (array([ 1.0239633 , -0.93950718, -0.04533116,  0.60701605]), 1, 142), (array([ 1.00517316, -0.7437817 , -0.03319083,  0.30040663]), 0, 143), (array([ 0.99029753, -0.93841524, -0.0271827 ,  0.58243982]), 0, 144), (array([ 0.97152922, -1.13314601, -0.01553391,  0.86643735]), 1, 145), (array([ 0.9488663 , -0.93781614,  0.00179484,  0.56891111]), 0, 146), (array([ 0.93010998, -1.13296322,  0.01317306,  0.86215894]), 1, 147), (array([ 0.90745071, -0.93802309,  0.03041624,  0.57364688]), 1, 148), (array([ 0.88869025, -0.7433405 ,  0.04188918,  0.29069906]), 0, 149), (array([ 0.87382344, -0.93903393,  0.04770316,  0.59629353]), 1, 150), (array([ 0.85504276, -0.74461088,  0.05962903,  0.31901013]), 1, 151), (array([ 0.84015054, -0.55038663,  0.06600923,  0.04571208]), 0, 152), (array([ 0.82914281, -0.74638997,  0.06692348,  0.35846942]), 0, 153), (array([ 0.81421501, -0.94239632,  0.07409286,  0.67148161]), 1, 154), (array([ 0.79536709, -0.74837831,  0.0875225 ,  0.40301644]), 0, 155), (array([ 0.78039952, -0.94462549,  0.09558283,  0.72195925]), 1, 156), (array([ 0.76150701, -0.75094655,  0.11002201,  0.46082551]), 0, 157), (array([ 0.74648808, -0.9474376 ,  0.11923852,  0.78606125]), 1, 158), (array([ 0.72753933, -0.75413797,  0.13495975,  0.53314371]), 1, 159), (array([ 0.71245657, -0.56114646,  0.14562262,  0.28584665]), 0, 160), (array([ 0.70123364, -0.75801257,  0.15133955,  0.62068219]), 1, 161), (array([ 0.68607339, -0.56529192,  0.1637532 ,  0.37922958]), 1, 162), (array([ 0.67476755, -0.37282806,  0.17133779,  0.14232443]), 1, 163), (array([ 0.66731099, -0.18052122,  0.17418428, -0.09178486]), 0, 164), (array([ 0.66370056, -0.37765635,  0.17234858,  0.25039494]), 1, 165), (array([ 0.65614744, -0.18536081,  0.17735648,  0.016645  ]), 0, 166), (array([ 0.65244022, -0.3825242 ,  0.17768938,  0.35962077]), 1, 167), (array([ 0.64478974, -0.19031438,  0.18488179,  0.12781183]), 1, 168), (array([ 0.64098345,  0.00174414,  0.18743803, -0.10132022]), 0, 169), (array([ 0.64101833, -0.19550042,  0.18541163,  0.24414913]), 1, 170), (array([ 0.63710832, -0.00344389,  0.19029461,  0.01520121]), 0, 171), (array([ 0.63703945, -0.20071307,  0.19059863,  0.36137306]), 1, 172), (array([ 0.63302518, -0.00873887,  0.19782609,  0.13432379]), 1, 173), (array([ 0.63285041,  0.18308071,  0.20051257, -0.0900115 ]), 1, 174), (array([ 0.63651202,  0.37484842,  0.19871234, -0.31334339]), 0, 175), (array([0.64400899, 0.17753262, 0.19244547, 0.03484374]), 1, 176), (array([ 0.64755964,  0.3694488 ,  0.19314235, -0.19148584]), 1, 177), (array([ 0.65494862,  0.5613587 ,  0.18931263, -0.41756665]), 1, 178), (array([ 0.66617579,  0.75336452,  0.1809613 , -0.64510371]), 0, 179), (array([ 0.68124308,  0.55624387,  0.16805922, -0.30133815]), 1, 180), (array([ 0.69236796,  0.74862171,  0.16203246, -0.53666221]), 0, 181), (array([ 0.70734039,  0.55163688,  0.15129922, -0.19762593]), 0, 182), (array([0.71837313, 0.35471113, 0.1473467 , 0.13870067]), 1, 183), (array([ 0.72546735,  0.54744914,  0.15012071, -0.10411027]), 1, 184), (array([ 0.73641634,  0.74013656,  0.14803851, -0.34592078]), 0, 185), (array([ 0.75121907,  0.54325304,  0.14112009, -0.01046116]), 1, 186), (array([ 0.76208413,  0.73609875,  0.14091087, -0.25550239]), 1, 187), (array([ 0.7768061 ,  0.92895708,  0.13580082, -0.50063176]), 1, 188), (array([ 0.79538524,  1.1219296 ,  0.12578818, -0.74762274]), 0, 189), (array([ 0.81782384,  0.92531748,  0.11083573, -0.41815039]), 1, 190), (array([ 0.83633019,  1.11870862,  0.10247272, -0.6739381 ]), 0, 191), (array([ 0.85870436,  0.92232301,  0.08899396, -0.35083069]), 0, 192), (array([ 0.87715082,  0.7260556 ,  0.08197735, -0.03146492]), 1, 193), (array([ 0.89167193,  0.9199121 ,  0.08134805, -0.29719879]), 1, 194), (array([ 0.91007017,  1.11378588,  0.07540407, -0.5631578 ]), 0, 195), (array([ 0.93234589,  0.91769135,  0.06414092, -0.24770404]), 1, 196), (array([ 0.95069972,  1.11184142,  0.05918683, -0.51948579]), 0, 197), (array([ 0.97293655,  0.91593835,  0.04879712, -0.20875496]), 1, 198), (array([ 0.99125531,  1.11032983,  0.04462202, -0.48565442]), 0, 199), (array([ 1.01346191,  0.91460754,  0.03490893, -0.1792487 ]), 1, 200)]\n",
      "tensor([0.0060, 0.9995, 0.9957, 0.8969, 0.7676, 0.9189, 0.2600, 0.9802, 0.7632,\n",
      "        0.0901, 0.9966, 0.8918, 0.8368, 0.8492, 0.1124, 0.9909, 0.9409, 0.4454,\n",
      "        0.9713, 0.6718, 0.0749, 0.9967, 0.8219, 0.9292, 0.6005, 0.9711, 0.6977,\n",
      "        0.0854, 0.9961, 0.7548, 0.9558, 0.4546, 0.9810, 0.8250, 0.8308, 0.9442,\n",
      "        0.4627, 0.9681, 0.7689, 0.8811, 0.9197, 0.3440, 0.9806, 0.3545, 0.9807,\n",
      "        0.8601, 0.8056, 0.9434, 0.5369, 0.9718, 0.7463, 0.9115, 0.8801, 0.7808,\n",
      "        0.9381, 0.4387, 0.9730, 0.3714, 0.9734, 0.7716, 0.8885, 0.8428, 0.8160,\n",
      "        0.8862, 0.7408, 0.9127, 0.6690, 0.9296, 0.6042, 0.9400, 0.4440, 0.9663,\n",
      "        0.5526, 0.9424, 0.4420, 0.9663, 0.6076, 0.9229, 0.6575, 0.9032, 0.7183,\n",
      "        0.8710, 0.7756, 0.8244, 0.8299, 0.7501, 0.8823, 0.3669, 0.9547, 0.4963,\n",
      "        0.9303, 0.6280, 0.8825, 0.7565, 0.7909, 0.8579, 0.6346, 0.9259, 0.5647,\n",
      "        0.1083, 0.9758, 0.7881, 0.8645, 0.6038, 0.9359, 0.6246, 0.8521, 0.8092,\n",
      "        0.6842, 0.9209, 0.4344, 0.9703, 0.1954, 0.9895, 0.9363, 0.6864, 0.7428,\n",
      "        0.8822, 0.4470, 0.9641, 0.8213, 0.5807, 0.9384, 0.7221, 0.7111, 0.8981,\n",
      "        0.4354, 0.9651, 0.8064, 0.3873, 0.8963, 0.3791, 0.9715, 0.1935, 0.9882,\n",
      "        0.9172, 0.5717, 0.8183, 0.7270, 0.2670, 0.9420, 0.6643, 0.8618, 0.3796,\n",
      "        0.9234, 0.3779, 0.9324, 0.6701, 0.8208, 0.7380, 0.2615, 0.9697, 0.6236,\n",
      "        0.8823, 0.4575, 0.9380, 0.2643, 0.9732, 0.8824, 0.4236, 0.9573, 0.8316,\n",
      "        0.4561, 0.8982, 0.7797, 0.6519, 0.9356, 0.7222, 0.7346, 0.9259, 0.3490,\n",
      "        0.9784, 0.9116, 0.5901, 0.8544, 0.8867, 0.4860, 0.0947, 0.9874, 0.3016,\n",
      "        0.9557, 0.3768, 0.9736, 0.8604, 0.6395, 0.9478, 0.6550, 0.1506, 0.9818,\n",
      "        0.3102, 0.9608, 0.5154, 0.9562, 0.6534, 0.8670, 0.7716, 0.7956, 0.8383,\n",
      "        0.7201, 0.8768], grad_fn=<CopySlices>)\n",
      "999 12.720404624938965\n"
     ]
    }
   ],
   "source": [
    "MAX_DUR = 200\n",
    "MAX_EPISODES = 1000 \n",
    "gamma_ = 0.99 # discount factor\n",
    "RLmodel.updateEnv(gym.make(\"CartPole-v0\")) \n",
    "score = []\n",
    "\n",
    "for episode in range(MAX_EPISODES):\n",
    "    init_state = RLmodel.resetEnv()\n",
    "    pred_batch = torch.zeros(MAX_DUR)\n",
    "    done = False \n",
    "    t = 0\n",
    "    obs = [] \n",
    "    actions = []\n",
    "    history = RLmodel.playEpisode(MAX_DUR, init_state, pred_batch)\n",
    "    ep_len = len(history) \n",
    "    score.append(ep_len)\n",
    "    print(history)\n",
    "    # Get rewards of the episode and discount-normalize them \n",
    "    reward_batch = torch.Tensor([r for (s,a,r) in history]).flip(dims=(0,))\n",
    "    disc_returns = RLmodel.policy.discount_rewards(reward_batch, gamma_)\n",
    "    # Get states the system has gone through\n",
    "    state_batch = torch.Tensor([s for (s,a,r) in history])\n",
    "    # Get actions\n",
    "    action_batch = torch.Tensor([a for (s,a,r) in history])\n",
    "    # Recompute the prediction corresponding to the action taken in each step\n",
    "    #pred_batch = RLmodel.model(state_batch)\n",
    "    \n",
    "    print(pred_batch)\n",
    "    #pred_batch = torch.tensor(pred_batch)\n",
    "    #prob_batch = pred_batch.gather(dim=1,index=action_batch.long().view(-1,1)).squeeze()\n",
    "    # backpropagate and update\n",
    "    loss = loss_fn(pred_batch[0:ep_len], disc_returns)\n",
    "    print(episode, loss.item())\n",
    "    optimizer.zero_grad()\n",
    "    loss.backward()\n",
    "    optimizer.step()\n",
    "\n",
    "    clear_output(wait=True)\n"
   ]
  },
  {
   "cell_type": "code",
   "execution_count": 37,
   "metadata": {},
   "outputs": [],
   "source": [
    "def running_mean(x, N=50):\n",
    "    kernel = np.ones(N)\n",
    "    conv_len = x.shape[0]-N\n",
    "    y = np.zeros(conv_len)\n",
    "    for i in range(conv_len):\n",
    "        y[i] = kernel @ x[i:i+N]\n",
    "        y[i] /= N\n",
    "    return y"
   ]
  },
  {
   "cell_type": "code",
   "execution_count": 38,
   "metadata": {},
   "outputs": [],
   "source": [
    "\n",
    "score = np.array(score)\n",
    "avg_score = running_mean(score, 50)"
   ]
  },
  {
   "cell_type": "code",
   "execution_count": 39,
   "metadata": {},
   "outputs": [
    {
     "data": {
      "text/plain": [
       "[<matplotlib.lines.Line2D at 0x126f221d0>]"
      ]
     },
     "execution_count": 39,
     "metadata": {},
     "output_type": "execute_result"
    },
    {
     "data": {
      "image/png": "[encoded data removed]",
      "text/plain": [
       "<Figure size 720x504 with 1 Axes>"
      ]
     },
     "metadata": {
      "needs_background": "light"
     },
     "output_type": "display_data"
    }
   ],
   "source": [
    "plt.figure(figsize=(10,7))\n",
    "plt.ylabel(\"Episode Duration\",fontsize=22)\n",
    "plt.xlabel(\"Training Epochs\",fontsize=22)\n",
    "plt.plot(avg_score, color='green')"
   ]
  },
  {
   "cell_type": "markdown",
   "metadata": {},
   "source": [
    "### In some approaches preds are recomputed after playing the full action. Why?"
   ]
  },
  {
   "cell_type": "code",
   "execution_count": null,
   "metadata": {},
   "outputs": [],
   "source": []
  }
 ],
 "metadata": {
  "kernelspec": {
   "display_name": "Python 3",
   "language": "python",
   "name": "python3"
  },
  "language_info": {
   "codemirror_mode": {
    "name": "ipython",
    "version": 3
   },
   "file_extension": ".py",
   "mimetype": "text/x-python",
   "name": "python",
   "nbconvert_exporter": "python",
   "pygments_lexer": "ipython3",
   "version": "3.6.5"
  }
 },
 "nbformat": 4,
 "nbformat_minor": 2
}
