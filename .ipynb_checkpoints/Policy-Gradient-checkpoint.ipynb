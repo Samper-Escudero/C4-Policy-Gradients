{
 "cells": [
  {
   "cell_type": "markdown",
   "metadata": {},
   "source": [
    "# Chapter 4 - Policy gradients methods\n",
    "### REINFORCE method\n",
    "\n",
    "This notebook implements a REINFORCE algorithm. The policy network accepts\n",
    "state vectors as inputs and produces a (discrete) probability distribution over the possible actions.\n",
    "\n",
    "The code and theory is based on Alexander Zai. “Deep Reinforcement Learning in Action MEAP V06”. Manning publications. "
   ]
  },
  {
   "cell_type": "code",
   "execution_count": 173,
   "metadata": {},
   "outputs": [],
   "source": [
    "import numpy as np\n",
    "import torch\n",
    "import gym\n",
    "from matplotlib import pyplot as plt\n",
    "import torch.nn as nn\n",
    "from torch.nn import functional as F\n",
    "from collections import OrderedDict\n",
    "from torch.autograd import Variable\n",
    "from IPython.display import clear_output\n"
   ]
  },
  {
   "cell_type": "code",
   "execution_count": 135,
   "metadata": {},
   "outputs": [],
   "source": [
    "env = gym.make(\"CartPole-v0\")"
   ]
  },
  {
   "cell_type": "code",
   "execution_count": 136,
   "metadata": {},
   "outputs": [],
   "source": [
    "# test environment\n",
    "def testEnv(env, steps = 200):\n",
    "    env.reset()\n",
    "    for _ in range(steps):\n",
    "        env.render()\n",
    "        env.step(env.action_space.sample()) # take a random action\n",
    "    env.close()"
   ]
  },
  {
   "cell_type": "code",
   "execution_count": 137,
   "metadata": {},
   "outputs": [],
   "source": [
    "# Unconmment to check everything is properly installed\n",
    "# A window with a cartpole randomly moving should appear. \n",
    "# Some python3-related errors might occur after closing the environment (window with the cartpole)\n",
    "# Check whether kernel needs to be restarted \n",
    " testEnv(env, 100)"
   ]
  },
  {
   "cell_type": "code",
   "execution_count": 232,
   "metadata": {},
   "outputs": [],
   "source": [
    "class REINFORCE():\n",
    "    def __init__(self, n_in, n_out, n_hidden1, n_hidden2, env, gamma = 0.9):\n",
    "        self.n_in = n_in\n",
    "        self.n_out = n_out\n",
    "        self.env = env\n",
    "        self.gamma = gamma\n",
    "        \n",
    "       # self.one_hot_reward = np.ones(arms)\n",
    "\n",
    "        # Neural network model definition \n",
    "        self.model = nn.Sequential(OrderedDict([\n",
    "            ('fc1', nn.Linear(n_in, n_hidden1)),\n",
    "            ('ReLu1', nn.LeakyReLU(inplace = True)),\n",
    "            ('fc2', nn.Linear(n_hidden1, n_hidden2)),\n",
    "            ('ReLu2', nn.LeakyReLU(inplace = True)),\n",
    "            ('fc3', nn.Linear(n_hidden2, n_out)),\n",
    "            ('softmax', nn.Softmax())\n",
    "        ])\n",
    "        )\n",
    "       # self.TNetwork = copy.deepcopy(self.QNetwork) # Target Network\n",
    "       # self.TNetwork.load_state_dict(self.QNetwork.state_dict())                \n",
    "    def updateEnv (self, env):\n",
    "        self.env = env\n",
    "        \n",
    "    def playEpisode(self, eps_max_dur, init_state, preds):\n",
    "        transitions_ = []\n",
    "        state_ = init_state\n",
    "        for st in range(eps_max_dur): \n",
    "            action_, pred_ = self.policy.step(self.model, state_, self.n_out)\n",
    "            new_state_, reward_, done = self.policy.execAction(self.env, action_)\n",
    "            transitions_.append((state_, action_, st+1))\n",
    "            preds.append(pred_)\n",
    "            if done:\n",
    "                break\n",
    "            state_ = new_state_\n",
    "\n",
    "        return transitions_\n",
    "        \n",
    "    def resetEnv(self):\n",
    "        self.env.reset()\n",
    "        \n",
    "    class policy():\n",
    "        \n",
    "        def step(model, state, n_outs):\n",
    "            pred = model(torch.from_numpy(state).float())\n",
    "            action = np.random.choice(np.array(range(n_outs)), p = pred.data.numpy())\n",
    "            return action, pred\n",
    "            \n",
    "        def execAction (env, action):\n",
    "            new_state, reward, done, info = env.step(action)\n",
    "            return new_state, reward, done\n",
    "        \n",
    "        def discount_rewards(rewards, disc_factor=0.99):\n",
    "            # create the discount array using the disc factor and multiply it by the rewards\n",
    "            disc_rewards = torch.pow(disc_factor,torch.arange(len(rewards)).float()) * rewards \n",
    "            # Normalize rewards so as to avoid drift/shift in training\n",
    "            # Add small num to den so as to avoid 0 div\n",
    "            norm_dreward = (disc_rewards - disc_rewards.mean()) / (disc_rewards.std() + 1e-09) \n",
    "            return norm_dreward\n",
    "        \n",
    "        # to train the network:\n",
    "        # 1. Calculate prob of the action taken\n",
    "        # 2. Apply discount factor\n",
    "        # 3. backpropagate and minimize the loss"
   ]
  },
  {
   "cell_type": "code",
   "execution_count": 233,
   "metadata": {},
   "outputs": [],
   "source": [
    "learning_rate = 0.0009\n",
    "l1 = 4\n",
    "l2 = 150\n",
    "l3 = 100\n",
    "l4 = 2"
   ]
  },
  {
   "cell_type": "code",
   "execution_count": 242,
   "metadata": {},
   "outputs": [],
   "source": [
    "RLmodel = REINFORCE(l1,l4,l2,l3, env)\n",
    "optimizer = torch.optim.Adam(RLmodel.model.parameters(), lr = learning_rate)"
   ]
  },
  {
   "cell_type": "code",
   "execution_count": 243,
   "metadata": {},
   "outputs": [
    {
     "data": {
      "text/plain": [
       "tensor([ 1.1695,  0.3796, -0.3949, -1.1542])"
      ]
     },
     "execution_count": 243,
     "metadata": {},
     "output_type": "execute_result"
    }
   ],
   "source": [
    "testR = torch.Tensor([4, 3, 2, 1])\n",
    "RLmodel.policy.discount_rewards(testR)"
   ]
  },
  {
   "cell_type": "code",
   "execution_count": 244,
   "metadata": {},
   "outputs": [],
   "source": [
    "def loss_fn(preds, r):\n",
    "    return -1 * torch.sum(r * torch.log(preds))"
   ]
  },
  {
   "cell_type": "code",
   "execution_count": 245,
   "metadata": {},
   "outputs": [
    {
     "name": "stdout",
     "output_type": "stream",
     "text": [
      "999 -1.8863182067871094\n"
     ]
    }
   ],
   "source": [
    "MAX_DUR = 200\n",
    "MAX_EPISODES = 1000 \n",
    "gamma_ = 0.99 # discount factor\n",
    "RLmodel.updateEnv(gym.make(\"CartPole-v0\")) \n",
    "score = []\n",
    "\n",
    "for episode in range(MAX_EPISODES):\n",
    "    RLmodel.resetEnv()\n",
    "    done = False \n",
    "    t = 0\n",
    "    obs = [] \n",
    "    actions = []\n",
    "    [history, pred_batch] = RLmodel.playEpisode(MAX_DUR, init_state)\n",
    "    ep_len = len(history) \n",
    "    score.append(ep_len)\n",
    "    \n",
    "    # Get rewards of the episode and discount-normalize them \n",
    "    reward_batch = torch.Tensor([r for (s,a,r) in history]).flip(dims=(0,))\n",
    "    disc_returns = RLmodel.policy.discount_rewards(reward_batch, gamma_)\n",
    "    # Get states the system has gone through\n",
    "    #pred_batch = torch.Tensor([pred for (s,a,r,pred) in history])\n",
    "    # Get actions\n",
    "    action_batch = torch.Tensor([a for (s,a,r) in history])\n",
    "    # Store the prediction corresponding to the action taken in each step\n",
    "    state_batch = torch.Tensor([s for (s,a,r) in history])\n",
    "    pred_batch = RLmodel.model(state_batch)\n",
    "    \n",
    "    \n",
    "    #pred_batch = Variable(torch.from_numpy(np.array(pred_batch)),requires_grad=True)\n",
    "    prob_batch = pred_batch.gather(dim=1,index=action_batch.long().view(-1,1)).squeeze()\n",
    "    # backpropagate and update\n",
    "    loss = loss_fn(prob_batch, disc_returns)\n",
    "    print(episode, loss.item())\n",
    "    optimizer.zero_grad()\n",
    "    loss.backward()\n",
    "    optimizer.step()\n",
    "\n",
    "    clear_output(wait=True)\n"
   ]
  },
  {
   "cell_type": "code",
   "execution_count": 238,
   "metadata": {},
   "outputs": [],
   "source": [
    "def running_mean(x, N=50):\n",
    "    kernel = np.ones(N)\n",
    "    conv_len = x.shape[0]-N\n",
    "    y = np.zeros(conv_len)\n",
    "    for i in range(conv_len):\n",
    "        y[i] = kernel @ x[i:i+N]\n",
    "        y[i] /= N\n",
    "    return y"
   ]
  },
  {
   "cell_type": "code",
   "execution_count": 246,
   "metadata": {},
   "outputs": [],
   "source": [
    "\n",
    "score = np.array(score)\n",
    "avg_score = running_mean(score, 50)"
   ]
  },
  {
   "cell_type": "code",
   "execution_count": 247,
   "metadata": {},
   "outputs": [
    {
     "data": {
      "text/plain": [
       "[<matplotlib.lines.Line2D at 0x12acff358>]"
      ]
     },
     "execution_count": 247,
     "metadata": {},
     "output_type": "execute_result"
    },
    {
     "data": {
      "image/png": "[encoded data removed]",
      "text/plain": [
       "<Figure size 720x504 with 1 Axes>"
      ]
     },
     "metadata": {
      "needs_background": "light"
     },
     "output_type": "display_data"
    }
   ],
   "source": [
    "plt.figure(figsize=(10,7))\n",
    "plt.ylabel(\"Episode Duration\",fontsize=22)\n",
    "plt.xlabel(\"Training Epochs\",fontsize=22)\n",
    "plt.plot(avg_score, color='green')"
   ]
  },
  {
   "cell_type": "code",
   "execution_count": null,
   "metadata": {},
   "outputs": [],
   "source": []
  }
 ],
 "metadata": {
  "kernelspec": {
   "display_name": "Python 3",
   "language": "python",
   "name": "python3"
  },
  "language_info": {
   "codemirror_mode": {
    "name": "ipython",
    "version": 3
   },
   "file_extension": ".py",
   "mimetype": "text/x-python",
   "name": "python",
   "nbconvert_exporter": "python",
   "pygments_lexer": "ipython3",
   "version": "3.6.5"
  }
 },
 "nbformat": 4,
 "nbformat_minor": 2
}
